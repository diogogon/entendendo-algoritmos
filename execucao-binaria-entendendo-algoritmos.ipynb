{
 "cells": [
  {
   "cell_type": "markdown",
   "metadata": {},
   "source": [
    "#### Algoritmos: Notação `Big O`\n",
    "\n",
    "Algoritmo: conjunto de instrução que realizam uma tarefa  \n",
    "Notação `Big O`: informa o quão rápido é um algoritmo com base no número de operações, ou seja, a forma `como o problema cresce`! A notação não é medida em segundos! \n",
    "\n",
    "O(n) = pesquisa simples (tempo linear)  \n",
    "O(log n) = pesquisa binária (tempo logarítmico)  \n",
    "O(n!) = caixeiro-viajante (tempo fatorial)\n",
    "\n",
    "Nota: 10 operações equivale a 1 segundo"
   ]
  },
  {
   "cell_type": "code",
   "execution_count": 3,
   "metadata": {},
   "outputs": [],
   "source": [
    "# Importação do pacote de manipulação de arquivos\n",
    "import os\n",
    "# Importação do pacote randômico\n",
    "from random import randint, choice\n",
    "# Importação do pacote math\n",
    "import math\n",
    "\n",
    "# O Operador \"//\" (divisão inteira): Este operador realiza uma divisão inteira ignorando qualquer parte fracionária"
   ]
  },
  {
   "cell_type": "markdown",
   "metadata": {},
   "source": [
    "#### Tempo de execução: Linear\n",
    "\n",
    "Pesquisa simples = `O(n)`  \n",
    "A notação é definida pelo número máximo de operações = `len(lista)`"
   ]
  },
  {
   "cell_type": "code",
   "execution_count": 343,
   "metadata": {},
   "outputs": [],
   "source": [
    "# Pesquisa Simples O(n), ou seja, len(lista)\n",
    "# Quantas operações precisamos realizar para encontrar um valor desejado?\n",
    "\n",
    "# 1ª forma: Sequencialmente\n",
    "\n",
    "def BIG_O_SIMPLES(lista_max = 20, valor = None):\n",
    "\n",
    "    # Colocar na variável 'valor' o que está em lista_max, se não digitar nada\n",
    "    if valor == None:\n",
    "        valor = lista_max\n",
    "\n",
    "    # Lista dos elementos\n",
    "    lista = list( range(1, lista_max + 1) )\n",
    "    tamanho_lista = len(lista)\n",
    "\n",
    "    # Notação Big O\n",
    "    big_O_n = len(lista)\n",
    "    print(f\"Quantidade de operações (Máximo com Valor = {big_O_n}) => n: {big_O_n}\")\n",
    "        \n",
    "    # Informação da Lista\n",
    "    print(lista)\n",
    "    print(f\"Tamanho da lista: {tamanho_lista} || Valor a ser encontrado: {valor} \\n\")\n",
    "\n",
    "    # Variáveis base\n",
    "    contador = 0\n",
    "\n",
    "    # Lógica\n",
    "    for valor_lista in lista:\n",
    "        if valor_lista == valor:\n",
    "            contador += 1\n",
    "            break\n",
    "        print(f\"Valor: {valor_lista}\")\n",
    "        contador += 1\n",
    "\n",
    "    print(f\"Valor: {valor_lista} || Passos: {contador}\" )"
   ]
  },
  {
   "cell_type": "code",
   "execution_count": 346,
   "metadata": {},
   "outputs": [
    {
     "name": "stdout",
     "output_type": "stream",
     "text": [
      "Quantidade de operações (Máximo com Valor = 20) => n: 20\n",
      "[1, 2, 3, 4, 5, 6, 7, 8, 9, 10, 11, 12, 13, 14, 15, 16, 17, 18, 19, 20]\n",
      "Tamanho da lista: 20 || Valor a ser encontrado: 20 \n",
      "\n",
      "Valor: 1\n",
      "Valor: 2\n",
      "Valor: 3\n",
      "Valor: 4\n",
      "Valor: 5\n",
      "Valor: 6\n",
      "Valor: 7\n",
      "Valor: 8\n",
      "Valor: 9\n",
      "Valor: 10\n",
      "Valor: 11\n",
      "Valor: 12\n",
      "Valor: 13\n",
      "Valor: 14\n",
      "Valor: 15\n",
      "Valor: 16\n",
      "Valor: 17\n",
      "Valor: 18\n",
      "Valor: 19\n",
      "Valor: 20 || Passos: 20\n"
     ]
    }
   ],
   "source": [
    "BIG_O_SIMPLES()"
   ]
  },
  {
   "cell_type": "code",
   "execution_count": 365,
   "metadata": {},
   "outputs": [],
   "source": [
    "# Pesquisa Simples O(n), ou seja, len(lista)\n",
    "# Quantas operações precisamos realizar para encontrar um valor desejado?\n",
    "\n",
    "# 1ª forma: Randomicamente\n",
    "\n",
    "def BIG_O_SIMPLES_ALEATORIO(lista_max = 20, valor = None):\n",
    "\n",
    "    # Colocar na variável 'valor' o que está em lista_max, se não digitar nada\n",
    "    if valor == None:\n",
    "        valor = lista_max\n",
    "\n",
    "    # Lista dos elementos\n",
    "    lista = list( range(1, lista_max + 1) )\n",
    "    tamanho_lista = len(lista)\n",
    "\n",
    "    # Notação Big O\n",
    "    big_O_n = len(lista)\n",
    "    print(f\"Quantidade de operações (Máximo com Valor = {big_O_n}) => n: {big_O_n}\")\n",
    "        \n",
    "    # Informação da Lista\n",
    "    print(lista)\n",
    "    print(f\"Tamanho da lista: {tamanho_lista} || Valor a ser encontrado: {valor} \\n\")\n",
    "\n",
    "    # Variáveis base\n",
    "    contador = 0\n",
    "\n",
    "    # Lógica\n",
    "    # Valor aleatório de um intervalo fixo não serve (randint)\n",
    "    # Precisamos pegar valores dinâmicamente de uma lista que terá elementos removidos\n",
    "    aleatorio_lista = choice(lista)\n",
    "\n",
    "    while aleatorio_lista != valor:\n",
    "        contador += 1\n",
    "        lista.remove(aleatorio_lista)\n",
    "\n",
    "        print(f\"{contador}ª iteração || Valor removido: {aleatorio_lista}\")\n",
    "        print(lista)\n",
    "\n",
    "        aleatorio_lista = choice(lista)\n",
    "    \n",
    "    contador += 1\n",
    "    print(f\"\\nPassos: {contador}\")"
   ]
  },
  {
   "cell_type": "code",
   "execution_count": 366,
   "metadata": {},
   "outputs": [
    {
     "name": "stdout",
     "output_type": "stream",
     "text": [
      "Quantidade de operações (Máximo com Valor = 20) => n: 20\n",
      "[1, 2, 3, 4, 5, 6, 7, 8, 9, 10, 11, 12, 13, 14, 15, 16, 17, 18, 19, 20]\n",
      "Tamanho da lista: 20 || Valor a ser encontrado: 20 \n",
      "\n",
      "1ª iteração || Valor removido: 9\n",
      "[1, 2, 3, 4, 5, 6, 7, 8, 10, 11, 12, 13, 14, 15, 16, 17, 18, 19, 20]\n",
      "2ª iteração || Valor removido: 14\n",
      "[1, 2, 3, 4, 5, 6, 7, 8, 10, 11, 12, 13, 15, 16, 17, 18, 19, 20]\n",
      "\n",
      "Passos: 3\n"
     ]
    }
   ],
   "source": [
    "BIG_O_SIMPLES_ALEATORIO()"
   ]
  },
  {
   "cell_type": "markdown",
   "metadata": {},
   "source": [
    "#### Tempo de execução: Logarítmica\n",
    "\n",
    "Pesquisa binária = `O(log n)`  \n",
    "A notação é definida pelo número máximo de operações = `log2 len(lista)`"
   ]
  },
  {
   "cell_type": "code",
   "execution_count": 333,
   "metadata": {},
   "outputs": [],
   "source": [
    "# Pesquisa binária O(log n), ou seja, 2**x = n\n",
    "# Quantas operações precisamos realizar para encontrar um valor desejado?\n",
    "\n",
    "def BIG_O_BINARIO(lista_max = 240000, valor = 1):\n",
    "\n",
    "    # Lista dos elementos\n",
    "    lista = list( range(1, lista_max + 1) )\n",
    "    tamanho_lista = len(lista)\n",
    "\n",
    "    # Notação Big O\n",
    "    big_O_logn = math.ceil( math.log2(tamanho_lista) )\n",
    "    print(f\"Quantidade de operações (Máximo com Valor = 1) => log2 {tamanho_lista}: {big_O_logn}\")\n",
    "        \n",
    "    # Informação da Lista\n",
    "    print(f\"Tamanho da lista: {tamanho_lista} || Valor a ser encontrado: {valor} \\n\")\n",
    "\n",
    "    # Variáveis base\n",
    "    contador = 0\n",
    "    valor_min = 0\n",
    "    valor_max = tamanho_lista\n",
    "    mediana = math.ceil( (valor_min + valor_max) / 2 )\n",
    "\n",
    "    # Lógica\n",
    "    if mediana == valor:\n",
    "        contador += 1\n",
    "        print(f\"Mediana = Valor => Min: {valor_min} || Max: {valor_max} || Mediana: {mediana} || Passos: {contador}\")\n",
    "    else:\n",
    "        while mediana != valor:\n",
    "            contador += 1\n",
    "            if mediana > valor:\n",
    "                print(f\"Mediana > Valor => Min: {valor_min} || Max: {valor_max} || Mediana: {mediana}\" )\n",
    "                valor_max = mediana\n",
    "            if mediana < valor:\n",
    "                print(f\"Mediana < Valor => Min: {valor_min} || Max: {valor_max} || Mediana: {mediana}\" )\n",
    "                valor_min = mediana\n",
    "            mediana = math.ceil( (valor_min + valor_max) / 2 )\n",
    "            \n",
    "        contador += 1\n",
    "        print(f\"Mediana = Valor => Min: {valor_min} || Max: {valor_max} || Mediana: {mediana} || Passos: {contador}\")"
   ]
  },
  {
   "cell_type": "code",
   "execution_count": 334,
   "metadata": {},
   "outputs": [
    {
     "name": "stdout",
     "output_type": "stream",
     "text": [
      "Quantidade de operações (Máximo com Valor = 1) => log2 240000: 18\n",
      "Tamanho da lista: 240000 || Valor a ser encontrado: 1 \n",
      "\n",
      "Mediana > Valor => Min: 0 || Max: 240000 || Mediana: 120000\n",
      "Mediana > Valor => Min: 0 || Max: 120000 || Mediana: 60000\n",
      "Mediana > Valor => Min: 0 || Max: 60000 || Mediana: 30000\n",
      "Mediana > Valor => Min: 0 || Max: 30000 || Mediana: 15000\n",
      "Mediana > Valor => Min: 0 || Max: 15000 || Mediana: 7500\n",
      "Mediana > Valor => Min: 0 || Max: 7500 || Mediana: 3750\n",
      "Mediana > Valor => Min: 0 || Max: 3750 || Mediana: 1875\n",
      "Mediana > Valor => Min: 0 || Max: 1875 || Mediana: 938\n",
      "Mediana > Valor => Min: 0 || Max: 938 || Mediana: 469\n",
      "Mediana > Valor => Min: 0 || Max: 469 || Mediana: 235\n",
      "Mediana > Valor => Min: 0 || Max: 235 || Mediana: 118\n",
      "Mediana > Valor => Min: 0 || Max: 118 || Mediana: 59\n",
      "Mediana > Valor => Min: 0 || Max: 59 || Mediana: 30\n",
      "Mediana > Valor => Min: 0 || Max: 30 || Mediana: 15\n",
      "Mediana > Valor => Min: 0 || Max: 15 || Mediana: 8\n",
      "Mediana > Valor => Min: 0 || Max: 8 || Mediana: 4\n",
      "Mediana > Valor => Min: 0 || Max: 4 || Mediana: 2\n",
      "Mediana = Valor => Min: 0 || Max: 2 || Mediana: 1 || Passos: 18\n"
     ]
    }
   ],
   "source": [
    "BIG_O_BINARIO()"
   ]
  },
  {
   "cell_type": "markdown",
   "metadata": {},
   "source": [
    "#### Tempo de execução: Fatorial\n",
    "\n",
    "Pesquisa lenta = `O(n!)`  \n",
    "A notação é definida pelo número máximo de operações = `len(lista)!`"
   ]
  },
  {
   "cell_type": "code",
   "execution_count": 9,
   "metadata": {},
   "outputs": [],
   "source": [
    "# Pesquisa lenta O(n!), ou seja, n!\n",
    "# Quantas operações precisamos realizar para encontrar o caminho crítico?\n",
    "\n",
    "def BIG_O_FATORIAL(lista_max = 5):\n",
    "\n",
    "    # Lista dos elementos\n",
    "    lista = list( range(1, lista_max + 1) )\n",
    "    tamanho_lista = len(lista)\n",
    "\n",
    "    # Notação Big O\n",
    "    big_O_fat = math.factorial( tamanho_lista )\n",
    "    print(f\"Quantidade de operações => {tamanho_lista}!: {big_O_fat}\")"
   ]
  },
  {
   "cell_type": "code",
   "execution_count": 10,
   "metadata": {},
   "outputs": [
    {
     "name": "stdout",
     "output_type": "stream",
     "text": [
      "Quantidade de operações => 5!: 120\n"
     ]
    }
   ],
   "source": [
    "BIG_O_FATORIAL()"
   ]
  }
 ],
 "metadata": {
  "kernelspec": {
   "display_name": "Python 3",
   "language": "python",
   "name": "python3"
  },
  "language_info": {
   "codemirror_mode": {
    "name": "ipython",
    "version": 3
   },
   "file_extension": ".py",
   "mimetype": "text/x-python",
   "name": "python",
   "nbconvert_exporter": "python",
   "pygments_lexer": "ipython3",
   "version": "3.12.2"
  }
 },
 "nbformat": 4,
 "nbformat_minor": 2
}
