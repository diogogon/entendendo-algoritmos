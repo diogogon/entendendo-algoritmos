{
 "cells": [
  {
   "cell_type": "markdown",
   "metadata": {},
   "source": [
    "#### Algoritmos: Notação `Big O`\n",
    "\n",
    "O que é um Algoritmo? Conjunto de instrução que realizam uma tarefa  \n",
    "\n",
    "O que é a notação `Big O`? Informa o quão rápido é um algoritmo com base no número de operações, ou seja, a forma `como o problema cresce`! A notação não é medida em segundos!\n",
    "\n",
    "1. O(n) = pesquisa simples (tempo linear)  \n",
    "2. O(log2 n) = pesquisa binária (tempo logarítmico)  \n",
    "3. O(n!) = caixeiro-viajante (tempo fatorial)\n",
    "\n",
    "Vamos ver cada um desse!"
   ]
  },
  {
   "cell_type": "code",
   "execution_count": 3,
   "metadata": {},
   "outputs": [],
   "source": [
    "# Importação do pacote que possue funções matemáticas\n",
    "import math"
   ]
  },
  {
   "cell_type": "markdown",
   "metadata": {},
   "source": [
    "#### Tempo de execução: Logarítmica\n",
    "\n",
    "Algoritmo de Busca: Objetivo: Encontrar eficientemente um valor em uma amostra  \n",
    "Pesquisa simples: Notação: `O(log2 n)`  \n",
    "Pior Hipótese de acerto: A ideia é dividir repetidamente a lista em duas partes, reduzindo o espaço de busca pela metade a cada passo: `log2 n`  \n",
    "Ordenação: Sim\n",
    "\n",
    "Podemos observar isso na prática quando precisamos `identificar erros ou problemas de desempenho em códigos grandes`. A maneira mais comum de descobrir o \"local\" do problema é dividindo o código em partes. Se o problema estiver presente em uma dessas partes, descartamos a outra e continuamos dividindo até encontrar a origem do problema.\n",
    "\n",
    "Outros exemplos: procurar uma palavra no dicionário, um nome na agenda de telefone ou um assento no cinema."
   ]
  },
  {
   "cell_type": "code",
   "execution_count": 14,
   "metadata": {},
   "outputs": [],
   "source": [
    "# Pesquisa binária O(log2 n), ou seja, 2**x = n\n",
    "# Quantas operações precisamos realizar para encontrar um valor desejado?\n",
    "\n",
    "def big_o_binario(lista_max = 240000, valor_encontrar = 1):\n",
    "\n",
    "    # Lista dos elementos\n",
    "    lista = list( range(1, lista_max + 1) )\n",
    "    lista.sort() # ordena a lista\n",
    "    tamanho_lista = len(lista)\n",
    "    \n",
    "    # Informação da Lista\n",
    "    print(f\"Tamanho da lista: {tamanho_lista} || Valor a ser encontrado: {valor_encontrar} \\n\")\n",
    "\n",
    "    # Variáveis Globais\n",
    "    contador = 0\n",
    "    posicao_min = 0\n",
    "    posicao_max = tamanho_lista - 1\n",
    "    posicao_mediana = math.floor( (posicao_min + posicao_max) / 2 ) - 1 # floor busca o inteiro logo abaixo do decimal\n",
    "\n",
    "    # Lógica\n",
    "    if posicao_mediana == valor_encontrar: # se o valor está localizado exatamente no meio da lista ordenada\n",
    "        contador += 1\n",
    "        print(f\"Execução {contador}: Valor da Mediana = {valor_encontrar} => Min: {lista[posicao_min]} || Max: {lista[posicao_max]}\")\n",
    "    else:\n",
    "        while lista[posicao_mediana] != valor_encontrar:\n",
    "            contador += 1\n",
    "            if lista[posicao_mediana] > valor_encontrar:\n",
    "                print(f\"Execução {contador}: Valor na Mediana {lista[posicao_mediana]} > {valor_encontrar} => Min: {lista[posicao_min]} || Max: {lista[posicao_max]}\" )\n",
    "                posicao_max = posicao_mediana\n",
    "            if lista[posicao_mediana] < valor_encontrar:\n",
    "                print(f\"Execução {contador}: Valor na Mediana {lista[posicao_mediana]} < {valor_encontrar} => Min: {lista[posicao_min]} || Max: {lista[posicao_max]}\" )\n",
    "                posicao_min = posicao_mediana\n",
    "            posicao_mediana = math.floor( (posicao_min + posicao_max) / 2 )\n",
    "        \n",
    "    contador += 1\n",
    "    print(f\"Execução {contador}: Valor da Mediana = {valor_encontrar} => Min: {lista[posicao_min]} || Max: {lista[posicao_max]}\")"
   ]
  },
  {
   "cell_type": "code",
   "execution_count": 16,
   "metadata": {},
   "outputs": [
    {
     "name": "stdout",
     "output_type": "stream",
     "text": [
      "Tamanho da lista: 240000 || Valor a ser encontrado: 1 \n",
      "\n",
      "Execução 1: Valor na Mediana 119999 > 1 => Min: 1 || Max: 240000\n",
      "Execução 2: Valor na Mediana 60000 > 1 => Min: 1 || Max: 119999\n",
      "Execução 3: Valor na Mediana 30000 > 1 => Min: 1 || Max: 60000\n",
      "Execução 4: Valor na Mediana 15000 > 1 => Min: 1 || Max: 30000\n",
      "Execução 5: Valor na Mediana 7500 > 1 => Min: 1 || Max: 15000\n",
      "Execução 6: Valor na Mediana 3750 > 1 => Min: 1 || Max: 7500\n",
      "Execução 7: Valor na Mediana 1875 > 1 => Min: 1 || Max: 3750\n",
      "Execução 8: Valor na Mediana 938 > 1 => Min: 1 || Max: 1875\n",
      "Execução 9: Valor na Mediana 469 > 1 => Min: 1 || Max: 938\n",
      "Execução 10: Valor na Mediana 235 > 1 => Min: 1 || Max: 469\n",
      "Execução 11: Valor na Mediana 118 > 1 => Min: 1 || Max: 235\n",
      "Execução 12: Valor na Mediana 59 > 1 => Min: 1 || Max: 118\n",
      "Execução 13: Valor na Mediana 30 > 1 => Min: 1 || Max: 59\n",
      "Execução 14: Valor na Mediana 15 > 1 => Min: 1 || Max: 30\n",
      "Execução 15: Valor na Mediana 8 > 1 => Min: 1 || Max: 15\n",
      "Execução 16: Valor na Mediana 4 > 1 => Min: 1 || Max: 8\n",
      "Execução 17: Valor na Mediana 2 > 1 => Min: 1 || Max: 4\n",
      "Execução 18: Valor da Mediana = 1 => Min: 1 || Max: 2\n"
     ]
    }
   ],
   "source": [
    "big_o_binario()"
   ]
  }
 ],
 "metadata": {
  "kernelspec": {
   "display_name": "Python 3",
   "language": "python",
   "name": "python3"
  },
  "language_info": {
   "codemirror_mode": {
    "name": "ipython",
    "version": 3
   },
   "file_extension": ".py",
   "mimetype": "text/x-python",
   "name": "python",
   "nbconvert_exporter": "python",
   "pygments_lexer": "ipython3",
   "version": "3.12.2"
  }
 },
 "nbformat": 4,
 "nbformat_minor": 2
}
