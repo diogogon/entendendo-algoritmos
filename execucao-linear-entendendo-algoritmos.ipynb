{
 "cells": [
  {
   "cell_type": "markdown",
   "metadata": {},
   "source": [
    "#### Algoritmos: Notação `Big O`\n",
    "\n",
    "O que é um Algoritmo? Conjunto de instrução que realizam uma tarefa  \n",
    "\n",
    "O que é a notação `Big O`? Informa o quão rápido é um algoritmo com base no número de operações, ou seja, a forma `como o problema cresce`! A notação não é medida em segundos!\n",
    "\n",
    "O(n) = pesquisa simples (tempo linear)  \n",
    "O(log n) = pesquisa binária (tempo logarítmico)  \n",
    "O(n!) = caixeiro-viajante (tempo fatorial)\n",
    "\n",
    "Vamos ver cada um desse!"
   ]
  },
  {
   "cell_type": "code",
   "execution_count": 25,
   "metadata": {},
   "outputs": [],
   "source": [
    "# Importação do pacote randômico (função para trazer valores aleatórios)\n",
    "from random import shuffle, choice\n",
    "# Importação do pacote math (para trazer funções de fatorial e logarítmica)\n",
    "import math"
   ]
  },
  {
   "cell_type": "markdown",
   "metadata": {},
   "source": [
    "#### Tempo de execução: Linear\n",
    "\n",
    "Algoritmo de Busca: Objetivo: Encontrar eficientemente um valor em uma amostra  \n",
    "Pesquisa simples: Notação: `O(n)`  \n",
    "Pior Hipóstese de acerto: Tamanho da lista de elementos: `len(lista)`  \n",
    "Ordenação: Não\n",
    "\n",
    "Sabe quando precisamos buscar, em um caderno, aquela folha do resumo de uma reunião importante? Mas você não lembra exatamente onde e precisa procurar rs pois é, é um exemplo desse tipo de algoritmo.\n",
    "\n",
    "Outros exemplos: procurar por um livro em uma estante, uma peça de roupa no guarda roupa, uma música na sua playlist. Em resumo, um valor em uma lista."
   ]
  },
  {
   "cell_type": "code",
   "execution_count": 53,
   "metadata": {},
   "outputs": [],
   "source": [
    "# Pesquisa Simples O(n), ou seja, len(lista)\n",
    "# Quantas operações precisamos realizar para encontrar um valor desejado?\n",
    "\n",
    "# 1ª forma: Sequencialmente a partir do 1º elemento\n",
    "\n",
    "def big_o_simples(lista_max = 20, valor_encontrar = None):\n",
    "\n",
    "    # Colocar na variável 'valor_encontrar' o que está em lista_max, se não digitar nada\n",
    "    if valor_encontrar == None:\n",
    "        valor_encontrar = lista_max\n",
    "\n",
    "    # Lista dos elementos\n",
    "    lista = list( range(1, lista_max + 1) )\n",
    "    shuffle(lista) # Embaralha a lista\n",
    "    tamanho_lista = len(lista)\n",
    "        \n",
    "    # Informação da Lista\n",
    "    print(lista)\n",
    "    print(f\"Tamanho da lista: {tamanho_lista} || Valor a ser encontrado: {valor_encontrar} \\n\")\n",
    "\n",
    "    # Variável Global\n",
    "    contador = 1\n",
    "\n",
    "    # Lógica\n",
    "    for valor in lista:\n",
    "        if valor == valor_encontrar:\n",
    "            print(f\"Execução {contador}: {valor} é {valor_encontrar}\")\n",
    "            break\n",
    "        print(f\"Execução {contador}: {valor} não é {valor_encontrar}\")\n",
    "        contador += 1"
   ]
  },
  {
   "cell_type": "code",
   "execution_count": 55,
   "metadata": {},
   "outputs": [
    {
     "name": "stdout",
     "output_type": "stream",
     "text": [
      "[5, 3, 6, 4, 7, 2, 1]\n",
      "Tamanho da lista: 7 || Valor a ser encontrado: 4 \n",
      "\n",
      "Execução 1: 5 não é 4\n",
      "Execução 2: 3 não é 4\n",
      "Execução 3: 6 não é 4\n",
      "Execução 4: 4 é 4\n"
     ]
    }
   ],
   "source": [
    "big_o_simples(7, 4)"
   ]
  },
  {
   "cell_type": "markdown",
   "metadata": {},
   "source": [
    "Conhece a trend das `garrafas coloridas`?\n",
    "\n",
    "Na brincadeira, temos 2 conjuntos iguais de garrafas. Uma está escondida e outra está livre para a escolha dos participantes. O objetivo é adivinhar a posição da garrafa escolhida no conjunto escondido. Se errar, é a vez do proximo a tentar.\n",
    "\n",
    "O que realmente acontece aqui? Os participantes simplesmente tentam cada posição possível até encontrar a correta, ou seja, é possível que a correspondência entre as garrafas só seja encontrada na última tentativa.\n",
    "\n",
    "Este é só mais um exemplo de um problema de busca linear!"
   ]
  },
  {
   "cell_type": "code",
   "execution_count": 70,
   "metadata": {},
   "outputs": [],
   "source": [
    "# Pesquisa Simples O(n), ou seja, len(lista)\n",
    "# Quantas operações precisamos realizar para encontrar um valor desejado?\n",
    "\n",
    "# 2ª forma: Aleatoriamente\n",
    "\n",
    "def big_o_simples_aleatorio(lista_max = 20, valor_encontrar = None):\n",
    "\n",
    "    # Colocar na variável 'valor' o que está em lista_max, se não digitar nada\n",
    "    if valor_encontrar == None:\n",
    "        valor_encontrar = lista_max\n",
    "\n",
    "    # Lista dos elementos\n",
    "    lista = list( range(1, lista_max + 1) )\n",
    "    shuffle(lista) # Embaralha a lista\n",
    "    tamanho_lista = len(lista)\n",
    "        \n",
    "    # Informação da Lista\n",
    "    print(lista)\n",
    "    print(f\"Tamanho da lista: {tamanho_lista} || Valor a ser encontrado: {valor_encontrar}\")\n",
    "\n",
    "    # Variável Global\n",
    "    contador = 0\n",
    "\n",
    "    # Comparar valor aleatório da lista com o nosso próprio valor\n",
    "    valor_aleatorio = choice(lista)\n",
    "\n",
    "    # Lógica\n",
    "    while valor_aleatorio != valor_encontrar:\n",
    "        contador += 1\n",
    "        lista.remove(valor_aleatorio)\n",
    "\n",
    "        print(f\"\\nExecução {contador}: {valor_aleatorio} não é {valor_encontrar}\")\n",
    "        print(\"Nova lista:\", lista)\n",
    "        valor_aleatorio = choice(lista)\n",
    "\n",
    "    contador += 1\n",
    "    print(f\"\\nExecução {contador}: {valor_aleatorio} é {valor_encontrar}\")"
   ]
  },
  {
   "cell_type": "code",
   "execution_count": 80,
   "metadata": {},
   "outputs": [
    {
     "name": "stdout",
     "output_type": "stream",
     "text": [
      "[3, 7, 4, 1, 2, 5, 6]\n",
      "Tamanho da lista: 7 || Valor a ser encontrado: 4\n",
      "\n",
      "Execução 1: 1 não é 4\n",
      "Nova lista: [3, 7, 4, 2, 5, 6]\n",
      "\n",
      "Execução 2: 5 não é 4\n",
      "Nova lista: [3, 7, 4, 2, 6]\n",
      "\n",
      "Execução 3: 4 é 4\n"
     ]
    }
   ],
   "source": [
    "big_o_simples_aleatorio(7, 4)"
   ]
  }
 ],
 "metadata": {
  "kernelspec": {
   "display_name": "Python 3",
   "language": "python",
   "name": "python3"
  },
  "language_info": {
   "codemirror_mode": {
    "name": "ipython",
    "version": 3
   },
   "file_extension": ".py",
   "mimetype": "text/x-python",
   "name": "python",
   "nbconvert_exporter": "python",
   "pygments_lexer": "ipython3",
   "version": "3.12.2"
  }
 },
 "nbformat": 4,
 "nbformat_minor": 2
}
