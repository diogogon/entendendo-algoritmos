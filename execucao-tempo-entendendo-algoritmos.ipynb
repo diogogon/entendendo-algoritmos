{
 "cells": [
  {
   "cell_type": "markdown",
   "metadata": {},
   "source": [
    "#### Algoritmos: Tempo de Execução\n",
    "\n",
    "Até então, temos estudado as complexidades dos algoritmos em termos de operações, mas como quantificar por tempo executado?\n",
    "\n",
    "Uma maneira prática é utilizando funções. O pacote `time` tem uma função de marcar o tempo quando ela é executada no código. Então teríamos algo do tipo:\n",
    "\n",
    "start_time = time.time()  \n",
    "funcao_algoritmo()  \n",
    "time = time.time() - start_time  \n",
    "\n",
    "Mas quando lidamos com O(n!), não é interessante fazer isso. Então, podemos usar o conceito de FLOPS (Floating Point Operation) que significa uma operação de ponto flutuante por segundo, como adição, subtração, multiplicação ou divisão, envolvendo números reais.\n",
    "\n",
    "TFLOP = 10^12 (1 trilhão de operações de ponto flutuante por segundo)  \n",
    "EFLOP = 10^18 (1 quintilhão de operações de ponto flutuante por segundo)  \n",
    "https://tek.sapo.pt/noticias/computadores/artigos/um-mundo-de-teraflops-conheca-os-8-supercomputadores-mais-rapidos-do-mundo\n",
    "\n",
    "Desempenho Teórico:  \n",
    "1. Busca Linear (O(n)): Tempo de execução cresce linearmente com o tamanho da entrada.  \n",
    "2. Busca Binária (O(log n)): Tempo de execução cresce logaritmicamente com o tamanho da entrada.  \n",
    "3. Caixeiro Viajante Força Bruta (O(n!)): Tempo de execução cresce fatorialmente com o tamanho da entrada, o que significa que se torna rapidamente impraticável para entradas maiores."
   ]
  },
  {
   "cell_type": "code",
   "execution_count": 12,
   "metadata": {},
   "outputs": [],
   "source": [
    "# Importação do pacote que lida com números tão grandes\n",
    "from decimal import Decimal\n",
    "# Importação do pacote para funções logarítimicas e fatorial\n",
    "import math\n",
    "# Importação do pacote para exibir a tabela\n",
    "import pandas as pd"
   ]
  },
  {
   "cell_type": "code",
   "execution_count": 51,
   "metadata": {},
   "outputs": [
    {
     "name": "stdout",
     "output_type": "stream",
     "text": [
      "FLOPS: 10\n",
      "   Elementos           O(n)       O(logn)           O(n!)\n",
      "0          2   0.2 segundos  0.1 segundos    0.2 segundos\n",
      "1          4   0.4 segundos  0.2 segundos    2.4 segundos\n",
      "2          8   0.8 segundos  0.3 segundos       1.1 horas\n",
      "3         16   1.6 segundos  0.4 segundos     6.6e+4 anos\n",
      "4        256  25.6 segundos  0.8 segundos   2.7e+498 anos\n",
      "5       1024    1.7 minutos  1.0 segundos  1.7e+2631 anos \n",
      "\n",
      "FLOPS: 1000000000000\n",
      "   Elementos          O(n)       O(logn)           O(n!)\n",
      "0          2  0.0 segundos  0.0 segundos    0.0 segundos\n",
      "1          4  0.0 segundos  0.0 segundos    0.0 segundos\n",
      "2          8  0.0 segundos  0.0 segundos    0.0 segundos\n",
      "3         16  0.0 segundos  0.0 segundos   20.9 segundos\n",
      "4        256  0.0 segundos  0.0 segundos   2.7e+487 anos\n",
      "5       1024  0.0 segundos  0.0 segundos  1.7e+2620 anos \n",
      "\n",
      "FLOPS: 1000000000000000000\n",
      "   Elementos          O(n)       O(logn)           O(n!)\n",
      "0          2  0.0 segundos  0.0 segundos    0.0 segundos\n",
      "1          4  0.0 segundos  0.0 segundos    0.0 segundos\n",
      "2          8  0.0 segundos  0.0 segundos    0.0 segundos\n",
      "3         16  0.0 segundos  0.0 segundos    0.0 segundos\n",
      "4        256  0.0 segundos  0.0 segundos   2.7e+481 anos\n",
      "5       1024  0.0 segundos  0.0 segundos  1.7e+2614 anos \n",
      "\n"
     ]
    }
   ],
   "source": [
    "# FLOPS\n",
    "n_flops = [10, 1000000000000, 1000000000000000000]\n",
    "# Tamanhos de entrada\n",
    "n_lista = [2, 4, 8, 16, 256, 1024]\n",
    "\n",
    "# Funções para calcular número de operações\n",
    "def operations_o_n(n): # Pesquisa linear\n",
    "    return n\n",
    "\n",
    "def operations_o_log_n(n): # Pesquisa binária\n",
    "    return math.log2(n)\n",
    "\n",
    "def operations_o_n_fact(n): # Pesquisa lenta fatorial\n",
    "    return math.factorial(n)\n",
    "\n",
    "# Transformar os segundos em outras dimensões\n",
    "def conv_segundos(segundos):\n",
    "    minutos = segundos / 60\n",
    "    horas = segundos / 3600\n",
    "    dias = segundos / 86400\n",
    "    anos = segundos / Decimal(60*60*24*365.25)\n",
    "    \n",
    "    if segundos < 60:\n",
    "        return f\"{segundos:.1f} segundos\"\n",
    "    elif anos >= 1:\n",
    "        return f\"{anos:.1e} anos\"\n",
    "    elif dias >= 1:\n",
    "        return f\"{dias:.1f} dias\"\n",
    "    elif horas >= 1:\n",
    "        return f\"{horas:.1f} horas\"\n",
    "    else:\n",
    "        return f\"{minutos:.1f} minutos\"\n",
    "\n",
    "# Calculando tempo de execução\n",
    "for i in n_flops:\n",
    "    resultado = []\n",
    "    print(f\"FLOPS: {i}\")\n",
    "    for j in n_lista:\n",
    "        complexidade_n = operations_o_n(j)\n",
    "        complexidade_log_n = operations_o_log_n(j)\n",
    "        complexidade_n_fact = operations_o_n_fact(j)\n",
    "    \n",
    "        tempo_n = conv_segundos(Decimal(complexidade_n) / Decimal(i))\n",
    "        tempo_log_n = conv_segundos(Decimal(complexidade_log_n) / Decimal(i))\n",
    "        tempo_n_fact = conv_segundos(Decimal(complexidade_n_fact) / Decimal(i))\n",
    "    \n",
    "        resultado.append((j, tempo_n, tempo_log_n, tempo_n_fact))\n",
    "\n",
    "    # Criar e exibir o DataFrame para cada i\n",
    "    df = pd.DataFrame(data=resultado, columns=[\"Elementos\", \"O(n)\", \"O(logn)\", \"O(n!)\"])\n",
    "    print(df, \"\\n\")  # Ou df.to_string() para uma exibição mais detalhada"
   ]
  }
 ],
 "metadata": {
  "kernelspec": {
   "display_name": "Python 3",
   "language": "python",
   "name": "python3"
  },
  "language_info": {
   "codemirror_mode": {
    "name": "ipython",
    "version": 3
   },
   "file_extension": ".py",
   "mimetype": "text/x-python",
   "name": "python",
   "nbconvert_exporter": "python",
   "pygments_lexer": "ipython3",
   "version": "3.12.2"
  }
 },
 "nbformat": 4,
 "nbformat_minor": 2
}
